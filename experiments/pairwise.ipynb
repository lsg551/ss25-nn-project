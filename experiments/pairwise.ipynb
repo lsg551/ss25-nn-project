{
 "cells": [
  {
   "cell_type": "markdown",
   "id": "52a41f4c",
   "metadata": {},
   "source": [
    "# Pairwise Cross-Encoder"
   ]
  },
  {
   "cell_type": "markdown",
   "id": "d393d5ee",
   "metadata": {
    "vscode": {
     "languageId": "plaintext"
    }
   },
   "source": [
    "Here should be the pairwise training code, but I did\n",
    "not manage to implement a third ranking model in time.\n",
    "I also faced some theoretical concerns, especially how\n",
    "pairwise ranking is properly implemented.\n",
    "\n",
    "Acoording to other researchers though, pairwise ranking\n",
    "performance lies between pointwise and listwise, so it can\n",
    "be assumed that this approach would have been better than\n",
    "the pointwise model, but worse than the listwise counterpart."
   ]
  }
 ],
 "metadata": {
  "language_info": {
   "name": "python"
  }
 },
 "nbformat": 4,
 "nbformat_minor": 5
}
