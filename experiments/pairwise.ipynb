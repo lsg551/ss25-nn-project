{
 "cells": [
  {
   "cell_type": "markdown",
   "id": "52a41f4c",
   "metadata": {},
   "source": [
    "# Pairwise Cross-Encoder"
   ]
  }
 ],
 "metadata": {
  "language_info": {
   "name": "python"
  }
 },
 "nbformat": 4,
 "nbformat_minor": 5
}
