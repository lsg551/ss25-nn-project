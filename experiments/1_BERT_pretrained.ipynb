{
 "cells": [
  {
   "cell_type": "code",
   "execution_count": null,
   "id": "7962c633",
   "metadata": {},
   "outputs": [],
   "source": [
    "import os\n",
    "import sys\n",
    "\n",
    "sys.path.append(os.path.abspath(\"..\")) # make src available as a package\n",
    "\n",
    "\n"
   ]
  },
  {
   "cell_type": "code",
   "execution_count": null,
   "id": "d5afdc9c",
   "metadata": {},
   "outputs": [],
   "source": [
    "SEED = int(os.getenv(\"SEED\", 42))\n",
    "\n",
    "import random\n",
    "import numpy as np\n",
    "import torch\n",
    "import datasets\n",
    "\n",
    "random.seed(SEED)\n",
    "np.random.seed(SEED)\n",
    "torch.manual_seed(SEED)\n",
    "torch.use_deterministic_algorithms(True)\n",
    "torch.cuda.manual_seed_all(SEED)\n",
    "torch.backends.cudnn.deterministic = True\n",
    "torch.backends.cudnn.benchmark = False\n",
    "\n",
    "# TODO: check if this was all?\n",
    "# TODO: what about CUDNN flags?"
   ]
  },
  {
   "cell_type": "markdown",
   "id": "2f94156b",
   "metadata": {},
   "source": [
    "# 1. Dataset Preparation"
   ]
  },
  {
   "cell_type": "code",
   "execution_count": null,
   "id": "cb47bd22",
   "metadata": {},
   "outputs": [
    {
     "name": "stdout",
     "output_type": "stream",
     "text": [
      "None\n",
      "{'query': 'is a little caffeine ok during pregnancy', 'positive': 'We donâ\\x80\\x99t know a lot about the effects of caffeine during pregnancy on you and your baby. So itâ\\x80\\x99s best to limit the amount you get each day. If youâ\\x80\\x99re pregnant, limit caffeine to 200 milligrams each day. This is about the amount in 1Â½ 8-ounce cups of coffee or one 12-ounce cup of coffee.', 'negative': 'It is generally safe for pregnant women to eat chocolate because studies have shown to prove certain benefits of eating chocolate during pregnancy. However, pregnant women should ensure their caffeine intake is below 200 mg per day.'}\n"
     ]
    }
   ],
   "source": [
    "from src.data import mMARCO\n",
    "\n",
    "batch_size = 32\n",
    "\n",
    "# only used for testing here, use the dataloaders otherwise\n",
    "mmarco = mMARCO(seed=SEED, shuffle_buffer_size=64, shuffle=False)\n",
    "print(mmarco._data.info.splits)\n",
    "\n",
    "for sample in mmarco:\n",
    "    print(sample)\n",
    "    break"
   ]
  },
  {
   "cell_type": "markdown",
   "id": "dbc6b46e",
   "metadata": {},
   "source": [
    "# 2. Training"
   ]
  },
  {
   "cell_type": "code",
   "execution_count": 10,
   "id": "cf80ac26",
   "metadata": {},
   "outputs": [
    {
     "name": "stdout",
     "output_type": "stream",
     "text": [
      "Using device: cuda\n"
     ]
    }
   ],
   "source": [
    "import torch\n",
    "\n",
    "device = torch.device(\"cuda\" if torch.cuda.is_available() else \"cpu\")\n",
    "\n",
    "# for Apple's Metal (MPS) backend / framework\n",
    "if torch.backends.mps.is_available():\n",
    "    device = torch.device(\"mps\")\n",
    "\n",
    "print(f\"Using device: {device}\")"
   ]
  },
  {
   "cell_type": "markdown",
   "id": "83e270df",
   "metadata": {},
   "source": [
    "Pointwise cross-encoders are supposed to output a class label (e.g., *relevant*\n",
    "or *not-relevant*) or a relevance score (e.g., from 0 to 1). Now, this model\n",
    "returns raw logits (practically a relevance score). However, the dataset does\n",
    "not have any gold labels, which could be used to compute a loss.\n",
    "\n",
    "Fortunately, the `(query, positive, negative)` triplets can easily be framed as\n",
    "such:\n",
    "- `(query, positive)=1` now means *relevant*\n",
    "- `(query, negative)=0` now means *not-relevant*\n",
    "\n",
    "Et voilà, this can be used for trainig.\n",
    "\n",
    "During training, we have to apply sigmoid to the raw logits to get a binary\n",
    "score though. However, during inference, we want the raw logits to build a\n",
    "sorted ranking."
   ]
  },
  {
   "cell_type": "markdown",
   "id": "f21ad00e",
   "metadata": {},
   "source": [
    "NOTE: There are quite a few CEL functions...\n",
    "- `nn.CrossEntropyLoss` \n",
    "  - **use case**: multi-class classification\n",
    "  - **input**: raw logits for each class (`input`), and the target class indices (`target`).\n",
    "- `nn.BCELoss`\n",
    "  - **use case**: binary classification or multi-label classification (independent classes)\n",
    "  - **input**: probabilities (so sigmoid must already be applied) and the target class indices (`target`).\n",
    "- `nn.BCEWithLogitsLoss` ← ✅\n",
    "  - **use case**: binary classification or multi-label classification (independent classes)\n",
    "  - **input**: raw logits (so sigmoid is applied internally), and the target class indices (`target`).\n"
   ]
  },
  {
   "cell_type": "markdown",
   "id": "55932bc4",
   "metadata": {},
   "source": [
    "### Hyperparameters"
   ]
  },
  {
   "cell_type": "code",
   "execution_count": null,
   "id": "70e4a66a",
   "metadata": {},
   "outputs": [],
   "source": [
    "from src.models import CrossEncoderBERT\n",
    "import torch.optim as optim\n",
    "import torch.nn as nn\n",
    "\n",
    "padding = \"longest\"\n",
    "max_length = 512\n",
    "\n",
    "model = CrossEncoderBERT(\n",
    "    # enable_gradient_checkpointing=True,\n",
    ")\n",
    "criterion = nn.BCEWithLogitsLoss()\n",
    "# learning_rate = 2e-5\n",
    "learning_rate = 1e-5\n",
    "epochs = 5\n",
    "# epochs = 20\n",
    "optimizer = optim.AdamW(model.parameters(), lr=learning_rate, weight_decay=0.01)\n",
    "\n",
    "\n",
    "train_dl, val_dl, test_dl = mmarco.as_dataloaders(seed=SEED, batch_size=batch_size, max_samples_per_split=20_000)"
   ]
  },
  {
   "cell_type": "markdown",
   "id": "caf145e6",
   "metadata": {},
   "source": [
    "### Progress Bars & Stats"
   ]
  },
  {
   "cell_type": "code",
   "execution_count": null,
   "id": "8ae3ea8d",
   "metadata": {},
   "outputs": [],
   "source": [
    "from string import Formatter\n",
    "from typing import Any, Callable\n",
    "import ipywidgets as widgets\n",
    "\n",
    "progress_widget = widgets.IntProgress(\n",
    "    value=0,\n",
    "    min=0,\n",
    "    max=epochs,\n",
    "    description=f\"Epoch: 0/{epochs}\",\n",
    ")\n",
    "\n",
    "def update_progress(epoch: int):\n",
    "    progress_widget.value = epoch + 1\n",
    "    progress_widget.description = f\"Epoch: {epoch + 1}/{epochs}\"\n",
    "    \n",
    "\n",
    "training_loss_widget = widgets.FloatProgress(\n",
    "    value=1,\n",
    "    min=0.0,\n",
    "    max=1.0,\n",
    "    description=\"Train: 1.0\",\n",
    "    bar_style=\"\",\n",
    "    style={\"bar_color\": \"red\"},\n",
    ")\n",
    "\n",
    "val_loss_widget = widgets.FloatProgress(\n",
    "    value=1,\n",
    "    min=0.0,\n",
    "    max=1.0,\n",
    "    description=\"Val: 1.0\",\n",
    "    bar_style=\"\",\n",
    "    style={\"bar_color\": \"red\"},\n",
    ")\n",
    "\n",
    "\n",
    "def update_loss(loss: float, widget: widgets.FloatProgress, name: str = \"Loss\"):\n",
    "    widget.value = loss\n",
    "    widget.description = f\"{name}: {loss:.3f}\"\n",
    "\n",
    "    match loss:\n",
    "        case loss if loss <= 0.1:\n",
    "            widget.style[\"bar_color\"] = \"green\"\n",
    "        case loss if loss < 0.3:\n",
    "            widget.style[\"bar_color\"] = \"yellow\"\n",
    "        case loss if loss < 0.5:\n",
    "            widget.style[\"bar_color\"] = \"orange\"\n",
    "        case _:\n",
    "            widget.style[\"bar_color\"] = \"red\"\n",
    "\n",
    "class Label:\n",
    "\n",
    "    def __init__(self, name: str = \"Label: {value}\", *, show: bool = True, transform: Callable[[str | int | float], str | int | float] | None = None) -> None:\n",
    "        self.name = name\n",
    "        self.tmpl = Formatter().parse(name)\n",
    "\n",
    "        placerholders = [field_name for _, field_name, _, _ in self.tmpl if field_name]\n",
    "        if \"value\" not in placerholders:\n",
    "            raise ValueError(\"The format string 'name' must contain a 'value' placeholder.\")\n",
    "\n",
    "        self.widget = widgets.Label(\n",
    "            value=self.name.format(value=0)\n",
    "        )\n",
    "        self.transform = transform\n",
    "\n",
    "        if show:\n",
    "            display(self.widget)\n",
    "\n",
    "    def _render(self, value: Any):\n",
    "        if self.transform:\n",
    "            value = self.transform(value)\n",
    "        self.widget.value = self.name.format(value=value)\n",
    "\n",
    "    def set(self, count: str | int | float):\n",
    "        self._render(count)\n",
    "\n",
    "class Counter(Label):\n",
    "\n",
    "    def __init__(self, *args, **kwargs) -> None:\n",
    "        super().__init__(*args, **kwargs)\n",
    "        self.count: int | float = 0\n",
    "\n",
    "    def update(self, count: int | float):\n",
    "        self.count += count\n",
    "        self._render(self.count)\n",
    "\n",
    "    def inc(self):\n",
    "        self.update(1)\n",
    "\n",
    "    def clear(self):\n",
    "        self.count = 0\n",
    "        self._render(self.count)"
   ]
  },
  {
   "cell_type": "code",
   "execution_count": null,
   "id": "e887d2c9",
   "metadata": {},
   "outputs": [],
   "source": [
    "from dataclasses import dataclass, field\n",
    "from datetime import datetime\n",
    "import math\n",
    "from typing import Any\n",
    "\n",
    "@dataclass\n",
    "class Stats:\n",
    "\n",
    "    start: datetime = field(default_factory=datetime.now)\n",
    "    end: datetime | None = None\n",
    "    elapsed: float | None = None # in seconds\n",
    "\n",
    "    # capture each batch loss, group by epoch\n",
    "    train_losses: list[list[float]] = field(default_factory=lambda: [[] for _ in range(epochs)])\n",
    "    val_losses: list[list[float]] = field(default_factory=lambda: [[] for _ in range(epochs)])\n",
    "    test_losses: list[list[float]] = field(default_factory=lambda: [[] for _ in range(epochs)])\n",
    "\n",
    "    def _get_losses(self, split: str, epoch: int) -> list[float]:\n",
    "        match split:\n",
    "            case \"train\":\n",
    "                return self.train_losses[epoch]\n",
    "            case \"val\":\n",
    "                return self.val_losses[epoch]\n",
    "            case \"test\":\n",
    "                return self.test_losses[epoch]\n",
    "            case _:\n",
    "                raise ValueError(f\"Unknown split: {split}\")\n",
    "\n",
    "    def mean(self, split: str, epoch: int, window: int | None = None) -> float:\n",
    "        \"\"\"Mean loss. If window is None, use full epoch; if 0, also full epoch; else use last `window` losses.\"\"\"\n",
    "        losses = self._get_losses(split, epoch)\n",
    "        if window is None or window == 0:\n",
    "            windowed = losses[:]\n",
    "        else:\n",
    "            windowed = losses[-window:]\n",
    "        return sum(windowed) / len(windowed) if windowed else 0.0\n",
    "\n",
    "    # Window = last `window` losses; used to create a rolling stddev\n",
    "    # Set to `0` to use all losses in the epoch\n",
    "    def stddev(self, split: str, epoch: int, window: int = 100) -> float:\n",
    "        losses = self._get_losses(split, epoch)\n",
    "        windowed = losses[:] if window == 0 else losses[-window:]\n",
    "\n",
    "        if not windowed:\n",
    "            return 0.0\n",
    "\n",
    "        mean = sum(windowed) / len(windowed)\n",
    "        variance = sum((x - mean) ** 2 for x in windowed) / len(windowed)\n",
    "        return math.sqrt(variance)\n",
    "\n",
    "    # Window = last `window` losses; CV computed using the same window for mean by default\n",
    "    def CV(self, split: str, epoch: int, window: int = 100, use_same_window_for_mean: bool = True) -> float:\n",
    "        stddev = self.stddev(split, epoch, window)\n",
    "        mean = self.mean(split, epoch, window if use_same_window_for_mean else None)\n",
    "        return (stddev / mean) if mean != 0 else 0.0\n",
    "\n",
    "    def stop(self):\n",
    "        self.end = datetime.now()\n",
    "        self.elapsed = (self.end - self.start).total_seconds()\n",
    "        return self.elapsed"
   ]
  },
  {
   "cell_type": "markdown",
   "id": "8a51610b",
   "metadata": {},
   "source": [
    "### Training Loop"
   ]
  },
  {
   "cell_type": "markdown",
   "id": "353b4cc3",
   "metadata": {},
   "source": [
    "CV (coefficient of variance) interpretation:\n",
    "- < 10-20%: low variance (stable training)\n",
    "- \\> 20-40%: high variance (possible training instability)\n",
    "\n",
    "Standard Deviation interpretation: \n",
    "- stable losses are generally within ±5% of the mean\n",
    "\n",
    "Good validation loss (CEL):\n",
    "\n",
    "**NOTE: Some fluctuation in batch loss is expected, especially during early training!**"
   ]
  },
  {
   "cell_type": "code",
   "execution_count": null,
   "id": "420cdaae",
   "metadata": {},
   "outputs": [
    {
     "data": {
      "application/vnd.jupyter.widget-view+json": {
       "model_id": "93c8885e92b74816a8c06cc3740f299e",
       "version_major": 2,
       "version_minor": 0
      },
      "text/plain": [
       "VBox(children=(HBox(children=(Label(value='Start: 15:57:30 Stop: 0'),)), HBox(children=(IntProgress(value=0, d…"
      ]
     },
     "metadata": {},
     "output_type": "display_data"
    }
   ],
   "source": [
    "from datetime import datetime\n",
    "from typing import cast\n",
    "\n",
    "from transformers import BatchEncoding\n",
    "from src.data.mmarco import mMARCOBatch\n",
    "from IPython.display import display\n",
    "import torch.nn as nn\n",
    "\n",
    "stats = Stats()\n",
    "\n",
    "# convenience function\n",
    "def tokenize(batch: mMARCOBatch):\n",
    "    return model.tokenize(\n",
    "        batch[\"queries\"],  # pyright: ignore[reportGeneralTypeIssues]\n",
    "        batch[\"candidates\"],  # pyright: ignore[reportGeneralTypeIssues]\n",
    "        padding=padding,\n",
    "        max_length=max_length,\n",
    "    ).to(device)\n",
    "\n",
    "# convenience function\n",
    "def feed(input: BatchEncoding):\n",
    "    return input[\"input_ids\"], input[\"attention_mask\"], input[\"token_type_ids\"],  # type: ignore\n",
    "    \n",
    "\n",
    "# print stats and display widgets\n",
    "time_label = Label(f\"Start: {stats.start.strftime('%H:%M:%S')}\" + \" Stop: {value}\", show=False)\n",
    "# used for both training and validation ...\n",
    "batch_counter = Counter(\"Batches: {value}\", show=False) # batches seen per epoch\n",
    "iter_counter = Counter(\"Iterations: {value}\", show=False) # samples seen per epoch\n",
    "\n",
    "# NOTE: two additional labels for training and validation loss with\n",
    "# the momentary values are defined aboth\n",
    "\n",
    "# Mean loss per epoch (NO rolling window)\n",
    "train_mean_loss_label = Label(\"L\\u0305: {value:.4f}\", show=False) # Mean Loss per epoch\n",
    "val_mean_loss_label = Label(\"L\\u0305: {value:.4f}\", show=False) # Mean Loss per epoch\n",
    "\n",
    "# Standard Deviation per epoch (rolling window for training)\n",
    "train_deviation_label = Label(\"σ: {value:.4f}\", show=False)\n",
    "val_deviation_label = Label(\"σ: {value:.4f}\", show=False)\n",
    "\n",
    "# Coefficient of Variation per epoch (rolling window for training)\n",
    "train_cv_label = Label(\"CV: {value:.2f}%\", show=False, transform=lambda x: x * 100) \n",
    "val_cv_label = Label(\"CV: {value:.2f}%\", show=False, transform=lambda x: x * 100)\n",
    "\n",
    "display(widgets.VBox([\n",
    "    widgets.HBox([time_label.widget]),\n",
    "    widgets.HBox([progress_widget, batch_counter.widget, iter_counter.widget]),\n",
    "    widgets.HBox([training_loss_widget, train_mean_loss_label.widget, train_deviation_label.widget, train_cv_label.widget]),\n",
    "    widgets.HBox([val_loss_widget, val_mean_loss_label.widget, val_deviation_label.widget, val_cv_label.widget])\n",
    "]))\n",
    "\n",
    "# GPU => prefer bfloat16, so no GradScaler needed\n",
    "# CPU/MPS => stick to FP32 (no autocast)\n",
    "dtype = torch.bfloat16 if device.type == \"cuda\" else torch.float32\n",
    "autocast_enabled = device.type == \"cuda\" # assume GPU is Ampere or later\n",
    "model.to(device)\n",
    "\n",
    "for epoch in range(epochs):\n",
    "\n",
    "    # --- training loop ---\n",
    "    model.train()\n",
    "    for batch in train_dl:\n",
    "        batch = cast(mMARCOBatch, batch)    \n",
    "        input = tokenize(batch)\n",
    "\n",
    "        optimizer.zero_grad()\n",
    "\n",
    "        with torch.autocast(device_type=device.type, dtype=dtype, enabled=autocast_enabled):\n",
    "            logits = model(*feed(input)).squeeze(-1)\n",
    "            loss = criterion(logits, batch[\"labels\"].float().to(device))\n",
    "\n",
    "        loss.backward()\n",
    "        nn.utils.clip_grad_norm_(model.parameters(), max_norm=1.0) # prevent exploding gradients\n",
    "        optimizer.step()\n",
    "\n",
    "        # - update stats -\n",
    "        stats.train_losses[epoch].append(loss.item())\n",
    "        # - update widgets -\n",
    "        iter_counter.update(len(batch[\"queries\"]))\n",
    "        batch_counter.inc()\n",
    "        update_loss(loss.item(), training_loss_widget, \"Train\")\n",
    "        train_mean_loss_label.set(stats.mean(\"train\", epoch, window=0))\n",
    "        train_deviation_label.set(stats.stddev(\"train\", epoch, window=100))\n",
    "        train_cv_label.set(stats.CV(\"train\", epoch, window=100))\n",
    "\n",
    "\n",
    "    # after each epoch, reset some widgets / counters\n",
    "    batch_counter.clear()\n",
    "    iter_counter.clear()\n",
    "\n",
    "    # --- validation loop ---\n",
    "    model.eval()\n",
    "    val_loss = 0.0 # cumulative loss\n",
    "    val_samples = 0\n",
    "\n",
    "    with torch.no_grad():\n",
    "        for batch in val_dl:\n",
    "            batch = cast(mMARCOBatch, batch)    \n",
    "            input = tokenize(batch)\n",
    "            logits = model(*feed(input)).squeeze(-1)\n",
    "            loss = criterion(logits, batch[\"labels\"].float().to(device))\n",
    "\n",
    "            # - update stats -\n",
    "            s = len(batch[\"queries\"])\n",
    "            val_loss += loss.item() * s\n",
    "            val_samples += s\n",
    "            stats.val_losses[epoch].append(loss.item())\n",
    "\n",
    "            # - update widgets -\n",
    "            iter_counter.update(len(batch[\"queries\"]))\n",
    "            batch_counter.inc()\n",
    "            update_loss(loss.item(), val_loss_widget, \"Val\")\n",
    "            val_mean_loss_label.set(stats.mean(\"val\", epoch, window=0))\n",
    "            val_deviation_label.set(stats.stddev(\"val\", epoch, window=0))\n",
    "            val_cv_label.set(stats.CV(\"val\", epoch, window=0))\n",
    "\n",
    "\n",
    "    val_loss /= val_samples if val_samples > 0 else float(\"nan\")\n",
    "    update_progress(epoch)\n",
    "\n",
    "    # after each epoch, reset some widgets / counters\n",
    "    batch_counter.clear()\n",
    "    iter_counter.clear()\n",
    "            \n",
    "    \n",
    "model.eval()\n",
    "stats.stop()\n",
    "time_label.set(f\"{stats.end.strftime('%H:%M:%S')} ({(stats.elapsed/60):.1f}min)\") # pyright: ignore[reportOptionalOperand, reportOptionalMemberAccess]"
   ]
  },
  {
   "cell_type": "markdown",
   "id": "8bb007f2",
   "metadata": {},
   "source": [
    "After the training (and validation) cycles are done,\n",
    "the reamaining test set is used to report the final\n",
    "performance."
   ]
  },
  {
   "cell_type": "code",
   "execution_count": null,
   "id": "16d3d0c5",
   "metadata": {},
   "outputs": [],
   "source": [
    "model.eval()\n",
    "with torch.no_grad():\n",
    "    for batch in test_dl:\n",
    "        ..."
   ]
  },
  {
   "cell_type": "markdown",
   "id": "3bdc4757",
   "metadata": {},
   "source": [
    "### Saving The Model"
   ]
  },
  {
   "cell_type": "code",
   "execution_count": null,
   "id": "3f6e365f",
   "metadata": {},
   "outputs": [],
   "source": [
    "from dataclasses import dataclass\n",
    "\n",
    "@dataclass\n",
    "class TrainingMetadata:\n",
    "\n",
    "# def gather_metadata() -> TrainingMetadata:\n",
    "\n",
    "\n",
    "# def save_model(metadata):\n",
    "\n",
    "\n",
    "# def save_training"
   ]
  },
  {
   "cell_type": "code",
   "execution_count": 25,
   "id": "f39683be",
   "metadata": {},
   "outputs": [],
   "source": [
    "stop_rfc3339 = stats.end.strftime('%Y-%m-%dT%H:%M:%S%Z') # pyright: ignore[reportOptionalMemberAccess]\n",
    "filename = f\"cross-encoder_pointwise_{stop_rfc3339}.pth\"\n",
    "\n",
    "torch.save(model.state_dict(), filename)\n",
    "\n",
    "# and later load with:\n",
    "# model = CrossEncoderBERT()\n",
    "# model.load_state_dict(torch.load(\"model_state.pth\"))\n",
    "# model.eval()"
   ]
  },
  {
   "cell_type": "markdown",
   "id": "726fad31",
   "metadata": {},
   "source": [
    "### Plotting & Detailed Trainings Run Analysis"
   ]
  },
  {
   "cell_type": "markdown",
   "id": "7dbfe212",
   "metadata": {},
   "source": [
    "NOTE: NaNs have occured during training, I believe it's likely\n",
    "due to gradient clipping = loss becomes numberically unstable.\n",
    "\n",
    "TODO: To prevent runtime errors when using the model later on,\n",
    "the `Stats` class should ideally fix this by removing NaNs\n",
    "from the recorded losses."
   ]
  },
  {
   "cell_type": "code",
   "execution_count": null,
   "id": "b3b1eb2c",
   "metadata": {},
   "outputs": [
    {
     "name": "stdout",
     "output_type": "stream",
     "text": [
      "Epoch 01 | Train: 0.2826 ± 0.1121 (n=625) | Val: 0.2515 ± 0.1010 (n=625)\n",
      "Epoch 02 | Train: 0.1376 ± 0.0866 (n=625) | Val: 0.2617 ± 0.1354 (n=625)\n",
      "Epoch 03 | Train: 0.0824 ± 0.0728 (n=625) | Val: 0.3733 ± 0.1945 (n=625)\n",
      "Epoch 04 | Train: 0.0497 ± 0.0611 (n=625) | Val: 0.4082 ± 0.2248 (n=625)\n",
      "Epoch 05 | Train: 0.0391 ± 0.0537 (n=625) | Val: 0.3945 ± 0.2346 (n=625)\n"
     ]
    },
    {
     "data": {
      "image/png": "[encoded data removed]",
      "text/plain": [
       "<Figure size 880x550 with 1 Axes>"
      ]
     },
     "metadata": {},
     "output_type": "display_data"
    }
   ],
   "source": [
    "import math\n",
    "import numpy as np\n",
    "import matplotlib.pyplot as plt\n",
    "from typing import Sequence\n",
    "\n",
    "def _summarize(loss_matrix: Sequence[Sequence[float]]):\n",
    "    \"\"\"Helper to summarize a matrix of losses (list of lists) into means, stds, and counts per epoch.\"\"\"\n",
    "    means: list[float] = []\n",
    "    stds: list[float] = []\n",
    "    counts: list[int] = []\n",
    "    for losses in loss_matrix:\n",
    "        if len(losses) == 0:\n",
    "            means.append(float(\"nan\"))\n",
    "            stds.append(float(\"nan\"))\n",
    "            counts.append(0)\n",
    "        else:\n",
    "            arr = np.asarray(losses, dtype=float)\n",
    "            means.append(float(arr.mean()))\n",
    "            stds.append(float(arr.std(ddof=0)))  # population std for stability\n",
    "            counts.append(len(arr))\n",
    "    return means, stds, counts\n",
    "\n",
    "train_means, train_stds, train_counts = _summarize(stats.train_losses)\n",
    "val_means, val_stds, val_counts = _summarize(stats.val_losses)\n",
    "\n",
    "epochs_axis = np.arange(1, len(stats.train_losses) + 1)\n",
    "\n",
    "fig, ax = plt.subplots(figsize=(8, 5), dpi=110)\n",
    "\n",
    "# Plot lines\n",
    "ax.plot(epochs_axis, train_means, marker='o', label='Train Mean Loss', color='C0')\n",
    "ax.plot(epochs_axis, val_means, marker='o', label='Val Mean Loss', color='C1')\n",
    "\n",
    "# Std deviation bands (ignore NaNs automatically by masking)\n",
    "train_upper = np.array(train_means) + np.array(train_stds)\n",
    "train_lower = np.array(train_means) - np.array(train_stds)\n",
    "val_upper = np.array(val_means) + np.array(val_stds)\n",
    "val_lower = np.array(val_means) - np.array(val_stds)\n",
    "\n",
    "ax.fill_between(epochs_axis, train_lower, train_upper, color='C0', alpha=0.20, linewidth=0)\n",
    "ax.fill_between(epochs_axis, val_lower, val_upper, color='C1', alpha=0.20, linewidth=0)\n",
    "\n",
    "# Highlight best (lowest) validation epoch\n",
    "if any(not math.isnan(v) for v in val_means):\n",
    "    best_epoch_idx = int(np.nanargmin(val_means))\n",
    "    ax.scatter(epochs_axis[best_epoch_idx], val_means[best_epoch_idx], s=120, color='C1', edgecolor='k', zorder=5)\n",
    "    ax.annotate(\n",
    "        f\"Best Val\\nEpoch {best_epoch_idx+1}\\n{val_means[best_epoch_idx]:.4f}\",\n",
    "        (epochs_axis[best_epoch_idx], val_means[best_epoch_idx]),\n",
    "        textcoords=\"offset points\", xytext=(10, -5), ha='left', va='top', fontsize=9,\n",
    "        bbox=dict(boxstyle='round,pad=0.3', fc='white', ec='C1', alpha=0.8)\n",
    "    )\n",
    "\n",
    "ax.set_xlabel('Epoch')\n",
    "ax.set_ylabel('Binary CEL')\n",
    "ax.set_title('Training vs Validation Loss')\n",
    "ax.grid(True, alpha=0.25)\n",
    "ax.legend()\n",
    "ax.margins(x=0.05)\n",
    "plt.tight_layout()\n",
    "\n",
    "# Structured summary printout\n",
    "for i, (tr_m, tr_s, tr_c, va_m, va_s, va_c) in enumerate(zip(train_means, train_stds, train_counts, val_means, val_stds, val_counts), start=1):\n",
    "    print(f\"Epoch {i:02d} | Train: {tr_m:.4f} ± {tr_s:.4f} (n={tr_c}) | Val: {va_m:.4f} ± {va_s:.4f} (n={va_c})\")\n",
    "\n",
    "plt.savefig(f\"training_validation_loss_{stop_rfc3339}.png\", dpi=200)\n",
    "plt.show()"
   ]
  },
  {
   "cell_type": "markdown",
   "id": "4227fe1a",
   "metadata": {},
   "source": [
    "During initial training, I experienced fluctuating losses and overfitting.\n",
    "To detect exploding gradients, plot the gradient norms as well."
   ]
  },
  {
   "cell_type": "code",
   "execution_count": null,
   "id": "222c73b5",
   "metadata": {},
   "outputs": [],
   "source": [
    "# TODO: plot gradient norms to detect exploding gradients"
   ]
  },
  {
   "cell_type": "markdown",
   "id": "41233a25",
   "metadata": {},
   "source": [
    "# 3. Evaluation"
   ]
  },
  {
   "cell_type": "markdown",
   "id": "f1625e45",
   "metadata": {},
   "source": [
    "\n",
    "\n",
    "If passage reranking is treated as a binary classification task\n",
    "(*»is this passage relevant to the query or not?«*), then\n",
    "- **Precision** →\n",
    "- **Recall** →\n",
    "\n",
    "However, in ranking, the end goal is to rank the top-k passages \n",
    "\n",
    "\n",
    "For ranking in general, IR provides \n",
    "\n",
    "\n",
    "Metrics:\n",
    "- MRR (Mean Reciprocal Rank)\n",
    "- nDCG@k (Normalized Discounted Cumulative Gain at k)\n",
    "- MAP (Mean Average Precision)\n",
    "- Recall@k (or Hit@k)"
   ]
  },
  {
   "cell_type": "code",
   "execution_count": null,
   "id": "6b9a4dac",
   "metadata": {},
   "outputs": [],
   "source": [
    "model.eval()\n",
    "with torch.no_grad():\n",
    "    test_loss = 0.0\n",
    "    # TODO: also perform accuracy and other metrics"
   ]
  },
  {
   "cell_type": "markdown",
   "id": "8053e502",
   "metadata": {},
   "source": [
    "# 4. Inference"
   ]
  },
  {
   "cell_type": "code",
   "execution_count": 33,
   "id": "aa1b8fe0",
   "metadata": {},
   "outputs": [],
   "source": [
    "def rank(query: str, candidates: list[str]) -> list[tuple[str, float]]:\n",
    "    model.eval()\n",
    "    inputs = model.tokenize([query]*len(candidates), list(candidates)).to(device)\n",
    "    with torch.no_grad():\n",
    "        logits = model.forward(\n",
    "            input_ids=inputs[\"input_ids\"],  # type: ignore\n",
    "            attention_mask=inputs[\"attention_mask\"],  # type: ignore\n",
    "            token_type_ids=inputs[\"token_type_ids\"],  # type: ignore\n",
    "        )\n",
    "    scores = torch.sigmoid(logits).squeeze(-1).tolist()\n",
    "    return sorted(zip(candidates, scores), key=lambda x: x[1], reverse=True)\n"
   ]
  },
  {
   "cell_type": "code",
   "execution_count": 34,
   "id": "7b941da3",
   "metadata": {},
   "outputs": [
    {
     "name": "stdout",
     "output_type": "stream",
     "text": [
      "Score: 0.9991 - Candidate: Paris is the capital of France.\n",
      "Score: 0.9936 - Candidate: France is in Europe.\n",
      "Score: 0.8361 - Candidate: Marseille is a city in France.\n",
      "Score: 0.0519 - Candidate: Berlin is the capital of Germany.\n",
      "Score: 0.0231 - Candidate: Rome is the capital of Italy.\n",
      "Score: 0.0151 - Candidate: Lyon is known for its cuisine.\n",
      "Score: 0.0093 - Candidate: Madrid is the capital of Spain.\n",
      "Score: 0.0002 - Candidate: Macron is the president of France.\n"
     ]
    }
   ],
   "source": [
    "test_query = \"What is the capital of France?\"\n",
    "test_candidates = [\n",
    "    \"Paris is the capital of France.\",\n",
    "    \"Marseille is a city in France.\",\n",
    "    \"Lyon is known for its cuisine.\",\n",
    "    \"France is in Europe.\",\n",
    "    \"Macron is the president of France.\",\n",
    "    \"Berlin is the capital of Germany.\",\n",
    "    \"Madrid is the capital of Spain.\", \n",
    "    \"Rome is the capital of Italy.\"\n",
    "]\n",
    "\n",
    "ranked_results = rank(test_query, test_candidates)\n",
    "\n",
    "for candidate, score in ranked_results:\n",
    "    print(f\"Score: {score:.4f} - Candidate: {candidate}\")\n",
    "    "
   ]
  },
  {
   "cell_type": "markdown",
   "id": "25a5f137",
   "metadata": {},
   "source": [
    "### Save this ranking to disk"
   ]
  },
  {
   "cell_type": "code",
   "execution_count": 35,
   "id": "58ca072d",
   "metadata": {},
   "outputs": [],
   "source": [
    "filename = f\"cross-encoder_pointwise_ranked_{stop_rfc3339}.txt\"\n",
    "with open(filename, \"w\") as f:\n",
    "    f.write(f\"Query: {test_query}\\n\\n\")\n",
    "    for candidate, score in ranked_results:\n",
    "        f.write(f\"Score: {score:.4f} - Candidate: {candidate}\\n\")"
   ]
  }
 ],
 "metadata": {
  "kernelspec": {
   "display_name": ".venv",
   "language": "python",
   "name": "python3"
  },
  "language_info": {
   "codemirror_mode": {
    "name": "ipython",
    "version": 3
   },
   "file_extension": ".py",
   "mimetype": "text/x-python",
   "name": "python",
   "nbconvert_exporter": "python",
   "pygments_lexer": "ipython3",
   "version": "3.13.2"
  }
 },
 "nbformat": 4,
 "nbformat_minor": 5
}
