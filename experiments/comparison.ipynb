{
 "cells": [
  {
   "cell_type": "markdown",
   "id": "d8e35484",
   "metadata": {},
   "source": [
    "# Comparison \n",
    "\n",
    "This notebook features a comparison of evaluation results from pointwise, pairwise, and listwise rerankers."
   ]
  },
  {
   "cell_type": "code",
   "execution_count": 1,
   "id": "9e09ce12",
   "metadata": {},
   "outputs": [],
   "source": [
    "import os\n",
    "import sys\n",
    "\n",
    "sys.path.append(os.path.abspath(\"..\"))  # make src available as a package"
   ]
  },
  {
   "cell_type": "code",
   "execution_count": null,
   "id": "5bc91ddf",
   "metadata": {},
   "outputs": [
    {
     "name": "stdout",
     "output_type": "stream",
     "text": [
      "Stats loaded from pointwise-stats.json\n"
     ]
    },
    {
     "data": {
      "text/plain": [
       "3"
      ]
     },
     "execution_count": 3,
     "metadata": {},
     "output_type": "execute_result"
    }
   ],
   "source": [
    "from src.utils.stats import Stats\n",
    "\n",
    "stats_pointwise = Stats.from_json(\"pointwise-stats.json\")"
   ]
  }
 ],
 "metadata": {
  "kernelspec": {
   "display_name": ".venv",
   "language": "python",
   "name": "python3"
  },
  "language_info": {
   "codemirror_mode": {
    "name": "ipython",
    "version": 3
   },
   "file_extension": ".py",
   "mimetype": "text/x-python",
   "name": "python",
   "nbconvert_exporter": "python",
   "pygments_lexer": "ipython3",
   "version": "3.13.7"
  }
 },
 "nbformat": 4,
 "nbformat_minor": 5
}
