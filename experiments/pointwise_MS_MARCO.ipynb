{
 "cells": [
  {
   "cell_type": "markdown",
   "id": "6b905071",
   "metadata": {},
   "source": [
    "# Pointwise Cross-Encoder"
   ]
  },
  {
   "cell_type": "markdown",
   "id": "ae64bc1e",
   "metadata": {},
   "source": [
    "This is a copy of [`pointwise.ipynb`](./pointwise.ipynb) that attempts to use the MS MARCO\n",
    "dataset instead, because all the ranking metrics can not be used with mMARCO meaningfully\n",
    "(as it's lacking more than one pos/neg candidate per query.)"
   ]
  },
  {
   "cell_type": "code",
   "execution_count": 1,
   "id": "7962c633",
   "metadata": {},
   "outputs": [
    {
     "name": "stdout",
     "output_type": "stream",
     "text": [
      "Using device: cuda\n"
     ]
    }
   ],
   "source": [
    "import os\n",
    "import sys\n",
    "\n",
    "sys.path.append(os.path.abspath(\"..\")) # make src available as a package\n",
    "\n",
    "SEED = int(os.getenv(\"SEED\", 42))\n",
    "\n",
    "import torch\n",
    "\n",
    "device = torch.device(\"cuda\" if torch.cuda.is_available() else \"cpu\")\n",
    "\n",
    "# for Apple's Metal (MPS) backend / framework\n",
    "if torch.backends.mps.is_available():\n",
    "    device = torch.device(\"mps\")\n",
    "\n",
    "print(f\"Using device: {device}\")"
   ]
  },
  {
   "cell_type": "markdown",
   "id": "2f94156b",
   "metadata": {},
   "source": [
    "# 1. Dataset Preparation"
   ]
  },
  {
   "cell_type": "code",
   "execution_count": 2,
   "id": "cb47bd22",
   "metadata": {},
   "outputs": [],
   "source": [
    "from src.data import MSMARCO\n",
    "\n",
    "batch_size = 16\n",
    "train_dl, val_dl, test_dl = MSMARCO.as_dataloaders(batch_size=batch_size)"
   ]
  },
  {
   "cell_type": "markdown",
   "id": "dbc6b46e",
   "metadata": {},
   "source": [
    "# 2. Training"
   ]
  },
  {
   "cell_type": "markdown",
   "id": "55932bc4",
   "metadata": {},
   "source": [
    "### Hyperparameters"
   ]
  },
  {
   "cell_type": "code",
   "execution_count": 3,
   "id": "70e4a66a",
   "metadata": {},
   "outputs": [],
   "source": [
    "from src.models import CrossEncoderBERT\n",
    "import torch.optim as optim\n",
    "import torch.nn as nn\n",
    "\n",
    "padding = \"longest\"\n",
    "max_length = 512\n",
    "model = CrossEncoderBERT()\n",
    "criterion = nn.BCEWithLogitsLoss(reduction=\"none\")\n",
    "learning_rate = 2e-5\n",
    "epochs = 3\n",
    "optimizer = optim.AdamW(model.parameters(), lr=learning_rate)\n"
   ]
  },
  {
   "cell_type": "markdown",
   "id": "8a51610b",
   "metadata": {},
   "source": [
    "### Training Loop"
   ]
  },
  {
   "cell_type": "code",
   "execution_count": 6,
   "id": "420cdaae",
   "metadata": {},
   "outputs": [
    {
     "data": {
      "application/vnd.jupyter.widget-view+json": {
       "model_id": "bbd9c0f697134e36a27725e29ad143c5",
       "version_major": 2,
       "version_minor": 0
      },
      "text/plain": [
       "VBox(children=(HBox(children=(Label(value='Start: 16:44:58 Stop: 0'),)), HBox(children=(IntProgress(value=0, d…"
      ]
     },
     "metadata": {},
     "output_type": "display_data"
    },
    {
     "data": {
      "application/vnd.jupyter.widget-view+json": {
       "model_id": "bbd9c0f697134e36a27725e29ad143c5",
       "version_major": 2,
       "version_minor": 0
      },
      "text/plain": [
       "VBox(children=(HBox(children=(Label(value='Start: 16:44:58 Stop: 0'),)), HBox(children=(IntProgress(value=0, d…"
      ]
     },
     "metadata": {},
     "output_type": "display_data"
    },
    {
     "name": "stderr",
     "output_type": "stream",
     "text": [
      "Be aware, overflowing tokens are not returned for the setting you have chosen, i.e. sequence pairs with the 'longest_first' truncation strategy. So the returned list will always be empty even if some tokens have been removed.\n",
      "Be aware, overflowing tokens are not returned for the setting you have chosen, i.e. sequence pairs with the 'longest_first' truncation strategy. So the returned list will always be empty even if some tokens have been removed.\n",
      "Be aware, overflowing tokens are not returned for the setting you have chosen, i.e. sequence pairs with the 'longest_first' truncation strategy. So the returned list will always be empty even if some tokens have been removed.\n"
     ]
    },
    {
     "data": {
      "application/vnd.jupyter.widget-view+json": {
       "model_id": "bbd9c0f697134e36a27725e29ad143c5",
       "version_major": 2,
       "version_minor": 0
      },
      "text/plain": [
       "VBox(children=(HBox(children=(Label(value='Start: 16:44:58 Stop: 0'),)), HBox(children=(IntProgress(value=0, d…"
      ]
     },
     "metadata": {},
     "output_type": "display_data"
    },
    {
     "name": "stderr",
     "output_type": "stream",
     "text": [
      "Be aware, overflowing tokens are not returned for the setting you have chosen, i.e. sequence pairs with the 'longest_first' truncation strategy. So the returned list will always be empty even if some tokens have been removed.\n",
      "Be aware, overflowing tokens are not returned for the setting you have chosen, i.e. sequence pairs with the 'longest_first' truncation strategy. So the returned list will always be empty even if some tokens have been removed.\n",
      "Be aware, overflowing tokens are not returned for the setting you have chosen, i.e. sequence pairs with the 'longest_first' truncation strategy. So the returned list will always be empty even if some tokens have been removed.\n"
     ]
    },
    {
     "name": "stdout",
     "output_type": "stream",
     "text": [
      "Epoch 0 | Train: 0.5126 ± 0.4829 (n=1005876) | Val: 0.4512 ± 0.6383 (n=111156)\n"
     ]
    },
    {
     "data": {
      "application/vnd.jupyter.widget-view+json": {
       "model_id": "bbd9c0f697134e36a27725e29ad143c5",
       "version_major": 2,
       "version_minor": 0
      },
      "text/plain": [
       "VBox(children=(HBox(children=(Label(value='Start: 16:44:58 Stop: 0'),)), HBox(children=(IntProgress(value=0, d…"
      ]
     },
     "metadata": {},
     "output_type": "display_data"
    },
    {
     "name": "stderr",
     "output_type": "stream",
     "text": [
      "Be aware, overflowing tokens are not returned for the setting you have chosen, i.e. sequence pairs with the 'longest_first' truncation strategy. So the returned list will always be empty even if some tokens have been removed.\n",
      "Be aware, overflowing tokens are not returned for the setting you have chosen, i.e. sequence pairs with the 'longest_first' truncation strategy. So the returned list will always be empty even if some tokens have been removed.\n",
      "Be aware, overflowing tokens are not returned for the setting you have chosen, i.e. sequence pairs with the 'longest_first' truncation strategy. So the returned list will always be empty even if some tokens have been removed.\n"
     ]
    },
    {
     "name": "stdout",
     "output_type": "stream",
     "text": [
      "Epoch 0 | Train: 0.5126 ± 0.4829 (n=1005876) | Val: 0.4512 ± 0.6383 (n=111156)\n"
     ]
    },
    {
     "name": "stderr",
     "output_type": "stream",
     "text": [
      "Be aware, overflowing tokens are not returned for the setting you have chosen, i.e. sequence pairs with the 'longest_first' truncation strategy. So the returned list will always be empty even if some tokens have been removed.\n",
      "Be aware, overflowing tokens are not returned for the setting you have chosen, i.e. sequence pairs with the 'longest_first' truncation strategy. So the returned list will always be empty even if some tokens have been removed.\n",
      "Be aware, overflowing tokens are not returned for the setting you have chosen, i.e. sequence pairs with the 'longest_first' truncation strategy. So the returned list will always be empty even if some tokens have been removed.\n"
     ]
    },
    {
     "data": {
      "application/vnd.jupyter.widget-view+json": {
       "model_id": "bbd9c0f697134e36a27725e29ad143c5",
       "version_major": 2,
       "version_minor": 0
      },
      "text/plain": [
       "VBox(children=(HBox(children=(Label(value='Start: 16:44:58 Stop: 0'),)), HBox(children=(IntProgress(value=0, d…"
      ]
     },
     "metadata": {},
     "output_type": "display_data"
    },
    {
     "name": "stderr",
     "output_type": "stream",
     "text": [
      "Be aware, overflowing tokens are not returned for the setting you have chosen, i.e. sequence pairs with the 'longest_first' truncation strategy. So the returned list will always be empty even if some tokens have been removed.\n",
      "Be aware, overflowing tokens are not returned for the setting you have chosen, i.e. sequence pairs with the 'longest_first' truncation strategy. So the returned list will always be empty even if some tokens have been removed.\n",
      "Be aware, overflowing tokens are not returned for the setting you have chosen, i.e. sequence pairs with the 'longest_first' truncation strategy. So the returned list will always be empty even if some tokens have been removed.\n"
     ]
    },
    {
     "name": "stdout",
     "output_type": "stream",
     "text": [
      "Epoch 0 | Train: 0.5126 ± 0.4829 (n=1005876) | Val: 0.4512 ± 0.6383 (n=111156)\n"
     ]
    },
    {
     "name": "stderr",
     "output_type": "stream",
     "text": [
      "Be aware, overflowing tokens are not returned for the setting you have chosen, i.e. sequence pairs with the 'longest_first' truncation strategy. So the returned list will always be empty even if some tokens have been removed.\n",
      "Be aware, overflowing tokens are not returned for the setting you have chosen, i.e. sequence pairs with the 'longest_first' truncation strategy. So the returned list will always be empty even if some tokens have been removed.\n",
      "Be aware, overflowing tokens are not returned for the setting you have chosen, i.e. sequence pairs with the 'longest_first' truncation strategy. So the returned list will always be empty even if some tokens have been removed.\n"
     ]
    },
    {
     "name": "stdout",
     "output_type": "stream",
     "text": [
      "Epoch 1 | Train: 0.4649 ± 0.5135 (n=1005876) | Val: 0.4452 ± 0.6186 (n=111156)\n"
     ]
    },
    {
     "data": {
      "application/vnd.jupyter.widget-view+json": {
       "model_id": "bbd9c0f697134e36a27725e29ad143c5",
       "version_major": 2,
       "version_minor": 0
      },
      "text/plain": [
       "VBox(children=(HBox(children=(Label(value='Start: 16:44:58 Stop: 0'),)), HBox(children=(IntProgress(value=0, d…"
      ]
     },
     "metadata": {},
     "output_type": "display_data"
    },
    {
     "name": "stderr",
     "output_type": "stream",
     "text": [
      "Be aware, overflowing tokens are not returned for the setting you have chosen, i.e. sequence pairs with the 'longest_first' truncation strategy. So the returned list will always be empty even if some tokens have been removed.\n",
      "Be aware, overflowing tokens are not returned for the setting you have chosen, i.e. sequence pairs with the 'longest_first' truncation strategy. So the returned list will always be empty even if some tokens have been removed.\n",
      "Be aware, overflowing tokens are not returned for the setting you have chosen, i.e. sequence pairs with the 'longest_first' truncation strategy. So the returned list will always be empty even if some tokens have been removed.\n"
     ]
    },
    {
     "name": "stdout",
     "output_type": "stream",
     "text": [
      "Epoch 0 | Train: 0.5126 ± 0.4829 (n=1005876) | Val: 0.4512 ± 0.6383 (n=111156)\n"
     ]
    },
    {
     "name": "stderr",
     "output_type": "stream",
     "text": [
      "Be aware, overflowing tokens are not returned for the setting you have chosen, i.e. sequence pairs with the 'longest_first' truncation strategy. So the returned list will always be empty even if some tokens have been removed.\n",
      "Be aware, overflowing tokens are not returned for the setting you have chosen, i.e. sequence pairs with the 'longest_first' truncation strategy. So the returned list will always be empty even if some tokens have been removed.\n",
      "Be aware, overflowing tokens are not returned for the setting you have chosen, i.e. sequence pairs with the 'longest_first' truncation strategy. So the returned list will always be empty even if some tokens have been removed.\n"
     ]
    },
    {
     "name": "stdout",
     "output_type": "stream",
     "text": [
      "Epoch 1 | Train: 0.4649 ± 0.5135 (n=1005876) | Val: 0.4452 ± 0.6186 (n=111156)\n"
     ]
    },
    {
     "name": "stderr",
     "output_type": "stream",
     "text": [
      "Be aware, overflowing tokens are not returned for the setting you have chosen, i.e. sequence pairs with the 'longest_first' truncation strategy. So the returned list will always be empty even if some tokens have been removed.\n"
     ]
    },
    {
     "data": {
      "application/vnd.jupyter.widget-view+json": {
       "model_id": "bbd9c0f697134e36a27725e29ad143c5",
       "version_major": 2,
       "version_minor": 0
      },
      "text/plain": [
       "VBox(children=(HBox(children=(Label(value='Start: 16:44:58 Stop: 0'),)), HBox(children=(IntProgress(value=0, d…"
      ]
     },
     "metadata": {},
     "output_type": "display_data"
    },
    {
     "name": "stderr",
     "output_type": "stream",
     "text": [
      "Be aware, overflowing tokens are not returned for the setting you have chosen, i.e. sequence pairs with the 'longest_first' truncation strategy. So the returned list will always be empty even if some tokens have been removed.\n",
      "Be aware, overflowing tokens are not returned for the setting you have chosen, i.e. sequence pairs with the 'longest_first' truncation strategy. So the returned list will always be empty even if some tokens have been removed.\n",
      "Be aware, overflowing tokens are not returned for the setting you have chosen, i.e. sequence pairs with the 'longest_first' truncation strategy. So the returned list will always be empty even if some tokens have been removed.\n"
     ]
    },
    {
     "name": "stdout",
     "output_type": "stream",
     "text": [
      "Epoch 0 | Train: 0.5126 ± 0.4829 (n=1005876) | Val: 0.4512 ± 0.6383 (n=111156)\n"
     ]
    },
    {
     "name": "stderr",
     "output_type": "stream",
     "text": [
      "Be aware, overflowing tokens are not returned for the setting you have chosen, i.e. sequence pairs with the 'longest_first' truncation strategy. So the returned list will always be empty even if some tokens have been removed.\n",
      "Be aware, overflowing tokens are not returned for the setting you have chosen, i.e. sequence pairs with the 'longest_first' truncation strategy. So the returned list will always be empty even if some tokens have been removed.\n",
      "Be aware, overflowing tokens are not returned for the setting you have chosen, i.e. sequence pairs with the 'longest_first' truncation strategy. So the returned list will always be empty even if some tokens have been removed.\n"
     ]
    },
    {
     "name": "stdout",
     "output_type": "stream",
     "text": [
      "Epoch 1 | Train: 0.4649 ± 0.5135 (n=1005876) | Val: 0.4452 ± 0.6186 (n=111156)\n"
     ]
    },
    {
     "name": "stderr",
     "output_type": "stream",
     "text": [
      "Be aware, overflowing tokens are not returned for the setting you have chosen, i.e. sequence pairs with the 'longest_first' truncation strategy. So the returned list will always be empty even if some tokens have been removed.\n"
     ]
    },
    {
     "ename": "KeyboardInterrupt",
     "evalue": "",
     "output_type": "error",
     "traceback": [
      "\u001b[31m---------------------------------------------------------------------------\u001b[39m",
      "\u001b[31mKeyboardInterrupt\u001b[39m                         Traceback (most recent call last)",
      "\u001b[36mCell\u001b[39m\u001b[36m \u001b[39m\u001b[32mIn[6]\u001b[39m\u001b[32m, line 136\u001b[39m\n\u001b[32m    134\u001b[39m     train_mean_loss_label.set(stats.mean(\u001b[33m\"\u001b[39m\u001b[33mtrain\u001b[39m\u001b[33m\"\u001b[39m, epoch, window=\u001b[32m100\u001b[39m))\n\u001b[32m    135\u001b[39m     train_deviation_label.set(stats.std(\u001b[33m\"\u001b[39m\u001b[33mtrain\u001b[39m\u001b[33m\"\u001b[39m, epoch, window=\u001b[32m100\u001b[39m))\n\u001b[32m--> \u001b[39m\u001b[32m136\u001b[39m     train_cv_label.set(\u001b[43mstats\u001b[49m\u001b[43m.\u001b[49m\u001b[43mCV\u001b[49m\u001b[43m(\u001b[49m\u001b[33;43m\"\u001b[39;49m\u001b[33;43mtrain\u001b[39;49m\u001b[33;43m\"\u001b[39;49m\u001b[43m,\u001b[49m\u001b[43m \u001b[49m\u001b[43mepoch\u001b[49m\u001b[43m,\u001b[49m\u001b[43m \u001b[49m\u001b[43mwindow\u001b[49m\u001b[43m=\u001b[49m\u001b[32;43m5000\u001b[39;49m\u001b[43m)\u001b[49m)\n\u001b[32m    139\u001b[39m \u001b[38;5;66;03m# after each epoch, reset some widgets / counters\u001b[39;00m\n\u001b[32m    140\u001b[39m batch_counter.clear()\n",
      "\u001b[36mFile \u001b[39m\u001b[32m/workspace/ss25-nn-project/src/utils/stats.py:132\u001b[39m, in \u001b[36mStats.CV\u001b[39m\u001b[34m(self, split, epoch, window)\u001b[39m\n\u001b[32m    120\u001b[39m \u001b[38;5;250m\u001b[39m\u001b[33;03m\"\"\"Calculate the coefficient of variation (CV) of the loss over the specified window of samples in an epoch.\u001b[39;00m\n\u001b[32m    121\u001b[39m \n\u001b[32m    122\u001b[39m \u001b[33;03mArgs:\u001b[39;00m\n\u001b[32m   (...)\u001b[39m\u001b[32m    129\u001b[39m \u001b[33;03m    float: Coefficient of variation of the loss\u001b[39;00m\n\u001b[32m    130\u001b[39m \u001b[33;03m\"\"\"\u001b[39;00m\n\u001b[32m    131\u001b[39m mu = \u001b[38;5;28mself\u001b[39m.mean(split, epoch, window \u001b[38;5;28;01mif\u001b[39;00m window \u001b[38;5;28;01melse\u001b[39;00m \u001b[32m0\u001b[39m)\n\u001b[32m--> \u001b[39m\u001b[32m132\u001b[39m sigma = \u001b[38;5;28;43mself\u001b[39;49m\u001b[43m.\u001b[49m\u001b[43mstd\u001b[49m\u001b[43m(\u001b[49m\u001b[43msplit\u001b[49m\u001b[43m,\u001b[49m\u001b[43m \u001b[49m\u001b[43mepoch\u001b[49m\u001b[43m,\u001b[49m\u001b[43m \u001b[49m\u001b[43mwindow\u001b[49m\u001b[43m \u001b[49m\u001b[38;5;28;43;01mif\u001b[39;49;00m\u001b[43m \u001b[49m\u001b[43mwindow\u001b[49m\u001b[43m \u001b[49m\u001b[38;5;28;43;01melse\u001b[39;49;00m\u001b[43m \u001b[49m\u001b[32;43m0\u001b[39;49m\u001b[43m)\u001b[49m\n\u001b[32m    133\u001b[39m \u001b[38;5;28;01mif\u001b[39;00m mu == \u001b[32m0.0\u001b[39m \u001b[38;5;129;01mor\u001b[39;00m \u001b[38;5;129;01mnot\u001b[39;00m (mu == mu) \u001b[38;5;129;01mor\u001b[39;00m \u001b[38;5;129;01mnot\u001b[39;00m (sigma == sigma):  \u001b[38;5;66;03m# handle NaN\u001b[39;00m\n\u001b[32m    134\u001b[39m     \u001b[38;5;28;01mreturn\u001b[39;00m \u001b[38;5;28mfloat\u001b[39m(\u001b[33m\"\u001b[39m\u001b[33mnan\u001b[39m\u001b[33m\"\u001b[39m)\n",
      "\u001b[36mFile \u001b[39m\u001b[32m/workspace/ss25-nn-project/src/utils/stats.py:110\u001b[39m, in \u001b[36mStats.std\u001b[39m\u001b[34m(self, split, epoch, window)\u001b[39m\n\u001b[32m    108\u001b[39m \u001b[38;5;28;01mif\u001b[39;00m window \u001b[38;5;129;01mand\u001b[39;00m window > \u001b[32m0\u001b[39m:\n\u001b[32m    109\u001b[39m     samples = samples[-window:]\n\u001b[32m--> \u001b[39m\u001b[32m110\u001b[39m t = \u001b[43mtorch\u001b[49m\u001b[43m.\u001b[49m\u001b[43mtensor\u001b[49m\u001b[43m(\u001b[49m\u001b[43msamples\u001b[49m\u001b[43m,\u001b[49m\u001b[43m \u001b[49m\u001b[43mdtype\u001b[49m\u001b[43m=\u001b[49m\u001b[43mtorch\u001b[49m\u001b[43m.\u001b[49m\u001b[43mfloat32\u001b[49m\u001b[43m)\u001b[49m\n\u001b[32m    111\u001b[39m \u001b[38;5;66;03m# population standard deviation (unbiased=False)\u001b[39;00m\n\u001b[32m    112\u001b[39m \u001b[38;5;28;01mreturn\u001b[39;00m \u001b[38;5;28mfloat\u001b[39m(t.std(unbiased=\u001b[38;5;28;01mFalse\u001b[39;00m).item())\n",
      "\u001b[31mKeyboardInterrupt\u001b[39m: "
     ]
    }
   ],
   "source": [
    "from typing import cast\n",
    "from transformers import BatchEncoding\n",
    "from src.data.msmarco import MSMARCOBatch\n",
    "from IPython.display import display\n",
    "import torch.nn as nn\n",
    "from src.utils.widgets import Label, Counter, progress_widgets, update_progress, update_loss\n",
    "from src.utils.stats import Stats\n",
    "import ipywidgets\n",
    "import torch\n",
    "\n",
    "\n",
    "# Turn an MSMARCO batch into pointwise (query, candidate, label) tasks\n",
    "# - pick one positive (label==1) and one non-positive (prefer 0 else -1) per sample\n",
    "# - skip samples that don't have both kinds\n",
    "# Returns flat lists aligned by index and a labels tensor (float, shape (N,))\n",
    "\n",
    "def to_pointwise(batch: MSMARCOBatch) -> tuple[list[str], list[str], torch.Tensor]:\n",
    "    queries: list[str] = []\n",
    "    candidates: list[str] = []\n",
    "    labels: list[float] = []\n",
    "\n",
    "    for q, cand_list, lab_list in zip(\n",
    "        batch[\"queries\"], batch[\"candidates\"], batch[\"labels\"]\n",
    "    ):\n",
    "        pos_idxs = [i for i, l in enumerate(lab_list) if l == 1]\n",
    "        neg0_idxs = [i for i, l in enumerate(lab_list) if l == 0]\n",
    "        negm_idxs = [i for i, l in enumerate(lab_list) if l == -1]\n",
    "\n",
    "        if not pos_idxs:\n",
    "            continue  # no positive => skip\n",
    "        pi = pos_idxs[0]\n",
    "        ni = neg0_idxs[0] if len(neg0_idxs) > 0 else (negm_idxs[0] if len(negm_idxs) > 0 else None)\n",
    "        if ni is None:\n",
    "            continue  # no non-positive => skip\n",
    "\n",
    "        # append two pointwise tasks\n",
    "        queries.append(q)\n",
    "        candidates.append(cand_list[pi])\n",
    "        labels.append(1.0)\n",
    "\n",
    "        queries.append(q)\n",
    "        candidates.append(cand_list[ni])\n",
    "        labels.append(0.0)\n",
    "\n",
    "    return queries, candidates, torch.tensor(labels, dtype=torch.float)\n",
    "\n",
    "\n",
    "# convenience function for batch tokenization (pointwise)\n",
    "def tokenize_pointwise(queries: list[str], candidates: list[str]):\n",
    "    return model.tokenize(\n",
    "        queries,\n",
    "        candidates,\n",
    "        padding=padding,\n",
    "        max_length=max_length,\n",
    "    ).to(device)\n",
    "\n",
    "\n",
    "# convenience function to unpack the BatchEncoding for the model's forward\n",
    "def feed(input: BatchEncoding):\n",
    "    return (\n",
    "        input[\"input_ids\"],\n",
    "        input[\"attention_mask\"],\n",
    "        input[\"token_type_ids\"],  # type: ignore\n",
    "    )\n",
    "\n",
    "stats = Stats()\n",
    "widgets = progress_widgets(epochs)\n",
    "progress_widget = widgets[\"progress\"]\n",
    "training_loss_widget = widgets[\"train_loss\"]\n",
    "val_loss_widget = widgets[\"val_loss\"]\n",
    "\n",
    "# print stats and display widgets\n",
    "time_label = Label(f\"Start: {stats.start.strftime('%H:%M:%S')}\" + \" Stop: {value}\", show=False)\n",
    "# used for both training and validation ...\n",
    "batch_counter = Counter(\"Batches: {value}\", show=False) # batches seen per epoch\n",
    "iter_counter = Counter(\"Iterations: {value}\", show=False) # samples seen per epoch\n",
    "\n",
    "# Mean loss per epoch (NO rolling window)\n",
    "train_mean_loss_label = Label(\"L\\u0305: {value:.4f}\", show=False) # Mean Loss per epoch\n",
    "val_mean_loss_label = Label(\"L\\u0305: {value:.4f}\", show=False) # Mean Loss per epoch\n",
    "\n",
    "# Standard Deviation per epoch (rolling window for training)\n",
    "train_deviation_label = Label(\"σ: {value:.4f}\", show=False)\n",
    "val_deviation_label = Label(\"σ: {value:.4f}\", show=False)\n",
    "\n",
    "# Coefficient of Variation per epoch (rolling window for training)\n",
    "train_cv_label = Label(\"CV: {value:.2f}%\", show=False, transform=lambda x: x * 100) \n",
    "val_cv_label = Label(\"CV: {value:.2f}%\", show=False, transform=lambda x: x * 100)\n",
    "\n",
    "display(ipywidgets.VBox([\n",
    "    ipywidgets.HBox([time_label.widget]),\n",
    "    ipywidgets.HBox([progress_widget, batch_counter.widget, iter_counter.widget]),\n",
    "    ipywidgets.HBox([training_loss_widget, train_mean_loss_label.widget, train_deviation_label.widget, train_cv_label.widget]),\n",
    "    ipywidgets.HBox([val_loss_widget, val_mean_loss_label.widget, val_deviation_label.widget, val_cv_label.widget])\n",
    "]))\n",
    "\n",
    "# GPU => prefer bfloat16, so no GradScaler needed\n",
    "# CPU/MPS => stick to FP32 (no autocast)\n",
    "dtype = torch.bfloat16 if device.type == \"cuda\" else torch.float32\n",
    "autocast_enabled = device.type == \"cuda\" # assume GPU is Ampere or later\n",
    "model.to(device)\n",
    "\n",
    "for epoch in range(epochs):\n",
    "\n",
    "    # --- training loop ---\n",
    "    model.train()\n",
    "    for idx, batch in enumerate(train_dl):\n",
    "        batch = cast(MSMARCOBatch, batch)\n",
    "\n",
    "        queries, candidates, y = to_pointwise(batch)\n",
    "        if len(queries) == 0:\n",
    "            continue  # nothing to train on in this batch\n",
    "        inputs = tokenize_pointwise(queries, candidates)\n",
    "\n",
    "        optimizer.zero_grad()\n",
    "\n",
    "        with torch.autocast(device_type=device.type, dtype=dtype, enabled=autocast_enabled):\n",
    "            logits = model(*feed(inputs)).squeeze(-1)  # (N,)\n",
    "            losses = criterion(logits, y.to(device))   # (N,)\n",
    "            \n",
    "        loss = losses.mean()\n",
    "        loss.backward()\n",
    "        optimizer.step()\n",
    "\n",
    "        # values for UI\n",
    "        mean_loss = loss.item()\n",
    "\n",
    "        # - update stats - (ensure CPU list even when running on GPU)\n",
    "        stats.collect(\"train\", epoch, idx, losses.detach().float().cpu().tolist())\n",
    "        # - update widgets -\n",
    "        batch_counter.inc()\n",
    "        iter_counter.update(len(queries))\n",
    "        update_loss(mean_loss, training_loss_widget, \"Train\")\n",
    "        train_mean_loss_label.set(stats.mean(\"train\", epoch, window=100))\n",
    "        train_deviation_label.set(stats.std(\"train\", epoch, window=100))\n",
    "        train_cv_label.set(stats.CV(\"train\", epoch, window=5000))\n",
    "    \n",
    "\n",
    "    # after each epoch, reset some widgets / counters\n",
    "    batch_counter.clear()\n",
    "    iter_counter.clear()\n",
    "\n",
    "    # --- validation loop ---\n",
    "    model.eval()\n",
    "    with torch.no_grad():\n",
    "        for idx, batch in enumerate(val_dl):\n",
    "            batch = cast(MSMARCOBatch, batch)\n",
    "            \n",
    "            queries, candidates, y = to_pointwise(batch)\n",
    "            if len(queries) == 0:\n",
    "                continue\n",
    "            inputs = tokenize_pointwise(queries, candidates)\n",
    "\n",
    "            logits = model(*feed(inputs)).squeeze(-1)\n",
    "            losses = criterion(logits, y.to(device))\n",
    "\n",
    "            # - update stats -\n",
    "            stats.collect(\"val\", epoch, idx, losses.detach().float().cpu().tolist())\n",
    "            # - update widgets -\n",
    "            batch_counter.inc()\n",
    "            iter_counter.update(len(queries))\n",
    "            \n",
    "            \n",
    "\n",
    "            update_loss(losses.mean().item(), val_loss_widget, \"Val\")\n",
    "            val_mean_loss_label.set(stats.mean(\"val\", epoch, window=100))\n",
    "            val_deviation_label.set(stats.std(\"val\", epoch, window=100))\n",
    "            val_cv_label.set(stats.CV(\"val\", epoch, window=5000))\n",
    "\n",
    "\n",
    "    tr_m, tr_s = stats.mean(\"train\", epoch, window=0), stats.std(\"train\", epoch, window=0)\n",
    "    train_samples = sum(len(b) for b in stats.train_losses[epoch])\n",
    "    va_m, va_s = stats.mean(\"val\", epoch, window=0), stats.std(\"val\", epoch, window=0)\n",
    "    val_samples = sum(len(b) for b in stats.val_losses[epoch])\n",
    "    print(f\"Epoch {epoch} | Train: {tr_m:.4f} ± {tr_s:.4f} (n={train_samples}) | Val: {va_m:.4f} ± {va_s:.4f} (n={val_samples})\")\n",
    "\n",
    "    update_progress(epoch, epochs, progress_widget)\n",
    "    batch_counter.clear()\n",
    "    iter_counter.clear()\n",
    "            \n",
    "    \n",
    "model.eval()\n",
    "stats.stop()\n",
    "time_label.set(f\"{stats.end.strftime('%H:%M:%S')} ({(stats.elapsed/60):.1f}min)\") # pyright: ignore[reportOptionalOperand, reportOptionalMemberAccess]"
   ]
  },
  {
   "cell_type": "markdown",
   "id": "3bdc4757",
   "metadata": {},
   "source": [
    "### Saving The Model"
   ]
  },
  {
   "cell_type": "code",
   "execution_count": null,
   "id": "8a8b2d43",
   "metadata": {},
   "outputs": [],
   "source": [
    "stop_rfc3339 = stats.end.strftime(\"%Y-%m-%dT%H:%M:%S%Z\")  # pyright: ignore[reportOptionalMemberAccess]"
   ]
  },
  {
   "cell_type": "code",
   "execution_count": null,
   "id": "f39683be",
   "metadata": {},
   "outputs": [],
   "source": [
    "torch.save(model.state_dict(), f\"cross-encoder_pointwise_MS_MARCO_{stop_rfc3339}.pth\")"
   ]
  },
  {
   "cell_type": "markdown",
   "id": "726fad31",
   "metadata": {},
   "source": [
    "### Plotting & Detailed Trainings Run Analysis"
   ]
  },
  {
   "cell_type": "markdown",
   "id": "e26b3949",
   "metadata": {},
   "source": [
    "The plotting was simplified and the resolution increased compared to the first notebook"
   ]
  },
  {
   "cell_type": "code",
   "execution_count": 7,
   "id": "b3b1eb2c",
   "metadata": {},
   "outputs": [
    {
     "data": {
      "image/png": "[encoded data removed]",
      "text/plain": [
       "<Figure size 880x550 with 1 Axes>"
      ]
     },
     "metadata": {},
     "output_type": "display_data"
    }
   ],
   "source": [
    "import numpy as np\n",
    "import matplotlib.pyplot as plt\n",
    "\n",
    "# Higher-resolution loss plot across epochs using batch-level means with smoothing.\n",
    "# - X axis: epoch with fractional progress, data lie within each epoch interval (e, e+1)\n",
    "# - Y axis: batch mean loss (smoothed)\n",
    "# - No bands/STD/CV; just clean, dense curves\n",
    "\n",
    "SMOOTH_WINDOW = 400  # trailing moving-average window over batch means (in batches)\n",
    "YMIN, YMAX = 0.0, 1.0\n",
    "\n",
    "\n",
    "def _batch_time_series(losses_3d: list[list[list[float]]]) -> tuple[list[float], list[float]]:\n",
    "    \"\"\"Flatten (epoch, batch, sample) -> parallel lists of (x, y) points.\n",
    "\n",
    "    x = epoch index with fractional progress in (e, e+1)\n",
    "    y = mean(losses) for that batch\n",
    "    \"\"\"\n",
    "    xs: list[float] = []\n",
    "    ys: list[float] = []\n",
    "    for e, epoch_batches in enumerate(losses_3d):\n",
    "        nb = len(epoch_batches)\n",
    "        if nb == 0:\n",
    "            continue\n",
    "        for i, batch_losses in enumerate(epoch_batches):\n",
    "            if not batch_losses:\n",
    "                continue\n",
    "            # fractional epoch position inside (e, e+1)\n",
    "            x = e + (i + 0.5) / nb\n",
    "            # mean loss of this batch\n",
    "            y = float(np.mean(np.asarray(batch_losses, dtype=float)))\n",
    "            xs.append(x)\n",
    "            ys.append(y)\n",
    "    return xs, ys\n",
    "\n",
    "\n",
    "def _moving_average(values: list[float], window: int) -> list[float]:\n",
    "    if window <= 1:\n",
    "        return values\n",
    "    out: list[float] = []\n",
    "    acc = 0.0\n",
    "    q: list[float] = []  # simple queue\n",
    "    for v in values:\n",
    "        q.append(v)\n",
    "        acc += v\n",
    "        if len(q) > window:\n",
    "            acc -= q.pop(0)\n",
    "        out.append(acc / len(q))\n",
    "    return out\n",
    "\n",
    "\n",
    "# Build time series from recorded stats\n",
    "train_x, train_y = _batch_time_series(stats.train_losses)\n",
    "val_x, val_y = _batch_time_series(stats.val_losses)\n",
    "\n",
    "# Apply smoothing for nicer curves (trailing moving average)\n",
    "train_y_smooth = _moving_average(train_y, SMOOTH_WINDOW)\n",
    "val_y_smooth = _moving_average(val_y, SMOOTH_WINDOW)\n",
    "\n",
    "# Epoch count for axis\n",
    "num_epochs = max(len(stats.train_losses), len(stats.val_losses))\n",
    "\n",
    "fig, ax = plt.subplots(figsize=(8, 5), dpi=110)\n",
    "\n",
    "# Dense, smooth curves\n",
    "if train_x and train_y_smooth:\n",
    "    ax.plot(train_x, train_y_smooth, label=\"Train (smoothed batch mean)\", color=\"C0\", linewidth=1.8)\n",
    "if val_x and val_y_smooth:\n",
    "    ax.plot(val_x, val_y_smooth, label=\"Val (smoothed batch mean)\", color=\"C1\", linewidth=1.8)\n",
    "\n",
    "# Optional: show epoch-level mean as light markers for reference\n",
    "train_epoch_means = [stats.mean(\"train\", e, window=0) for e in range(len(stats.train_losses))]\n",
    "val_epoch_means = [stats.mean(\"val\", e, window=0) for e in range(len(stats.val_losses))]\n",
    "ax.plot([e + 0.5 for e in range(len(train_epoch_means))], train_epoch_means, \"o\", color=\"C0\", alpha=0.35, label=\"Train epoch mean\")\n",
    "ax.plot([e + 0.5 for e in range(len(val_epoch_means))], val_epoch_means, \"o\", color=\"C1\", alpha=0.35, label=\"Val epoch mean\")\n",
    "\n",
    "ax.set_xlabel(\"Epoch\")\n",
    "ax.set_ylabel(\"Binary CEL\")\n",
    "ax.set_title(\"Training vs Validation Loss\\nSmoothed batch means (no bands)\")\n",
    "ax.grid(True, alpha=0.25)\n",
    "ax.set_xlim(0.0, float(num_epochs))\n",
    "if YMIN is not None and YMAX is not None:\n",
    "    ax.set_ylim(YMIN, YMAX)\n",
    "ax.set_xticks([e + 0.5 for e in range(num_epochs)], labels=[str(e + 1) for e in range(num_epochs)])\n",
    "ax.legend()\n",
    "ax.margins(x=0.02)\n",
    "plt.tight_layout()\n",
    "\n",
    "# plt.savefig(f\"training_validation_loss_{stop_rfc3339}.png\", dpi=200)\n",
    "plt.show()\n"
   ]
  },
  {
   "cell_type": "markdown",
   "id": "41233a25",
   "metadata": {},
   "source": [
    "# 3. Evaluation"
   ]
  },
  {
   "cell_type": "markdown",
   "id": "221827f9",
   "metadata": {},
   "source": [
    "After the training (and validation) cycles are done,\n",
    "the reamaining test set is used to report the final\n",
    "performance as well as actual IR ranking metrics."
   ]
  },
  {
   "cell_type": "code",
   "execution_count": null,
   "id": "2b107b09",
   "metadata": {},
   "outputs": [],
   "source": [
    "model.eval()\n",
    "with torch.no_grad():\n",
    "    total = 0.0\n",
    "    n = 0\n",
    "    for batch in test_dl:\n",
    "        queries, candidates, y = to_pointwise(batch)\n",
    "        if len(queries) == 0:\n",
    "            continue\n",
    "        inputs = tokenize_pointwise(queries, candidates)\n",
    "        logits = model(*feed(inputs)).squeeze(-1)\n",
    "        losses = criterion(logits, y.to(device))\n",
    "        total += float(losses.mean().item())\n",
    "        n += 1\n",
    "    if n > 0:\n",
    "        print(f\"Test mean loss: {total/n:.4f}\")\n",
    "    else:\n",
    "        print(\"Test had no usable samples.\")"
   ]
  },
  {
   "cell_type": "markdown",
   "id": "f1625e45",
   "metadata": {},
   "source": [
    "Metrics:\n",
    "- MRR (Mean Reciprocal Rank)\n",
    "- nDCG@k (Normalized Discounted Cumulative Gain at k)\n",
    "- MAP (Mean Average Precision)\n",
    "- Recall@k (or Hit@k)"
   ]
  },
  {
   "cell_type": "code",
   "execution_count": null,
   "id": "6b9a4dac",
   "metadata": {},
   "outputs": [],
   "source": [
    "from src.metrics import MRR, recall_at\n",
    "\n",
    "# Build predicted rankings per query for a small sample from MSMARCO's test set,\n",
    "# then compute IR metrics (MRR and Recall@k).\n",
    "# Treat label -1 as non-relevant for simplicity.\n",
    "\n",
    "num_eval_queries = 100  # limit the set for speed\n",
    "K = 10                  # Recall@K\n",
    "\n",
    "# predicted order -> 1/0 relevance per query\n",
    "relevance_lists: list[list[int]] = []\n",
    "\n",
    "model.eval()\n",
    "with torch.no_grad():\n",
    "    collected = 0\n",
    "    for batch in test_dl:\n",
    "        qs = batch[\"queries\"]\n",
    "        cands_batch = batch[\"candidates\"]\n",
    "        labels_batch = batch[\"labels\"]\n",
    "\n",
    "        for q, cand_list, lab_list in zip(qs, cands_batch, labels_batch):\n",
    "            if collected >= num_eval_queries:\n",
    "                break\n",
    "            if not cand_list:\n",
    "                continue\n",
    "\n",
    "            # convert labels to binary relevance: 1 -> relevant, (0 OR -1) -> not relevant\n",
    "            rel_bin = [1 if int(l) == 1 else 0 for l in lab_list]\n",
    "            if sum(rel_bin) == 0:\n",
    "                # No known positives for this query -> skip\n",
    "                # bc cannot evaluate rank-based metrics\n",
    "                continue\n",
    "\n",
    "            # ccore all candidates for this query\n",
    "            enc = model.tokenize(\n",
    "                [q] * len(cand_list),\n",
    "                list(cand_list),\n",
    "                padding=padding,\n",
    "                max_length=max_length,\n",
    "            ).to(device)\n",
    "\n",
    "            logits = model(*feed(enc)).squeeze(-1)\n",
    "            scores = logits.detach().float().cpu().tolist()\n",
    "\n",
    "            # vuild relevance list in predicted order (descending score)\n",
    "            order = sorted(range(len(scores)), key=lambda i: scores[i], reverse=True)\n",
    "            rel_sorted = [rel_bin[i] for i in order]\n",
    "            relevance_lists.append(rel_sorted)\n",
    "            collected += 1\n",
    "            \n",
    "        if collected >= num_eval_queries:\n",
    "            break\n",
    "\n",
    "if relevance_lists:\n",
    "    mrr = MRR(relevance_lists)\n",
    "    r_at_k = recall_at(relevance_lists, k=K)\n",
    "    print(f\"Evaluation on {len(relevance_lists)} test queries (with >=1 positive):\")\n",
    "    print(f\"MRR: {mrr:.4f}\")\n",
    "    print(f\"Recall@{K}: {r_at_k:.4f}\")\n",
    "else:\n",
    "    print(\"No evaluable test queries with positive labels were found; metrics not computed.\")"
   ]
  },
  {
   "cell_type": "markdown",
   "id": "8053e502",
   "metadata": {},
   "source": [
    "# 4. Inference"
   ]
  },
  {
   "cell_type": "code",
   "execution_count": null,
   "id": "7b941da3",
   "metadata": {},
   "outputs": [
    {
     "name": "stdout",
     "output_type": "stream",
     "text": [
      "Score: 0.9888 - Candidate: Paris is the capital of France.\n",
      "Score: 0.9510 - Candidate: France is in Europe.\n",
      "Score: 0.2429 - Candidate: Marseille is a city in France.\n",
      "Score: 0.1734 - Candidate: Rome is the capital of Italy.\n",
      "Score: 0.1284 - Candidate: Madrid is the capital of Spain.\n",
      "Score: 0.0412 - Candidate: Lyon is known for its cuisine.\n",
      "Score: 0.0341 - Candidate: Berlin is the capital of Germany.\n",
      "Score: 0.0119 - Candidate: Macron is the president of France.\n"
     ]
    }
   ],
   "source": [
    "test_query = \"What is the capital of France?\"\n",
    "test_candidates = [\n",
    "    \"Paris is the capital of France.\",\n",
    "    \"Marseille is a city in France.\",\n",
    "    \"Lyon is known for its cuisine.\",\n",
    "    \"France is in Europe.\",\n",
    "    \"Macron is the president of France.\",\n",
    "    \"Berlin is the capital of Germany.\",\n",
    "    \"Madrid is the capital of Spain.\", \n",
    "    \"Rome is the capital of Italy.\"\n",
    "]\n",
    "\n",
    "ranked_results = model.rank(test_query, test_candidates, device=device)\n",
    "\n",
    "for candidate, score in ranked_results:\n",
    "    print(f\"Score: {score:.4f} - Candidate: {candidate}\")\n",
    "    "
   ]
  },
  {
   "cell_type": "markdown",
   "id": "25a5f137",
   "metadata": {},
   "source": [
    "Save this ranking to disk"
   ]
  },
  {
   "cell_type": "code",
   "execution_count": null,
   "id": "58ca072d",
   "metadata": {},
   "outputs": [],
   "source": [
    "filename = f\"cross-encoder_pointwise_ranked_{stop_rfc3339}.txt\"\n",
    "with open(filename, \"w\") as f:\n",
    "    f.write(f\"Query: {test_query}\\n\\n\")\n",
    "    for candidate, score in ranked_results:\n",
    "        f.write(f\"Score: {score:.4f} - Candidate: {candidate}\\n\")"
   ]
  }
 ],
 "metadata": {
  "kernelspec": {
   "display_name": ".venv",
   "language": "python",
   "name": "python3"
  },
  "language_info": {
   "codemirror_mode": {
    "name": "ipython",
    "version": 3
   },
   "file_extension": ".py",
   "mimetype": "text/x-python",
   "name": "python",
   "nbconvert_exporter": "python",
   "pygments_lexer": "ipython3",
   "version": "3.13.7"
  }
 },
 "nbformat": 4,
 "nbformat_minor": 5
}
